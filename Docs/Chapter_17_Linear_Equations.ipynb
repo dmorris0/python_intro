{
 "cells": [
  {
   "cell_type": "markdown",
   "metadata": {},
   "source": [
    "# Chapter 17: Solve Linear Equations\n",
    "\n",
    "This is a self-contained chapter describing how to use Python to solve systems of linear equations.  It does not assume any experience with Python, and provides all the basic steps.  It is also a Jupyter notebook, which means if you edit it with Visual Studio Code (or other suitable IDE) then you can run the code directly.  Alternatively, you can run Python in a terminal as explained below and copy and paste the commands.\n",
    "\n",
    "## 1. Problem Statement\n",
    "\n",
    "Assume we have $N$ unknown variables which we collect in a vector $\\boldsymbol{x}=[x_1, x_2, ..., x_N]$.  Further assume we have $N$ independent linear equations in these unknown variables.  These equations can be organized into the following standard form:\n",
    "\n",
    "$$A \\boldsymbol{x} = \\boldsymbol{b} $$\n",
    "\n",
    "where $A$ is a $N\\times N$ square matrix containing the coefficients of $\\boldsymbol{x}$, and $\\boldsymbol{b}$ is a length $N$ vector containing constants in these equations.  Both $A$ and $\\boldsymbol{b}$ are known.  If $A$ is full rank, this matrix equation can be solved by left multiplying by the inverse of $A$ to give:\n",
    "\n",
    "$$\\boldsymbol{x} = A^{-1} \\boldsymbol{b} $$\n",
    "\n",
    "However, for large matrices this is inefficient and there are much faster numerical methods to solve systems of linear equations.  In Matlab one would use `A\\b`.  In Python it is not much harder.  We will use the Numpy [linalg.solve()](https://numpy.org/doc/stable/reference/generated/numpy.linalg.solve.html) function to solve a linear system of equations.\n",
    "___\n",
    "## 2. Set up Python\n",
    "\n",
    "1. Ensure you have Python 3 installed.  In Windows, type `python` in a PowerShell, and if it is not installed, this will take you to the Windows Store to install Python.  After it runs, type: `exit()` to quit.\n",
    "2. Next, ensure you have Numpy installed.  If you are a more advanced Python user, installing it in a virtual environments is recommended as described in [Chapter 12](Chapter_12_Virtual_Environments.md), but for simplicity you can directly install Numpy (or confirm that it is already installed) with the following command in a terminal:\n",
    "```\n",
    "$ python -m pip install numpy\n",
    "```\n",
    "Note: the `$` is not typed -- it simply indicates the terminal prompt, which could be something like this `PS C:\\Users\\dmorris` in a Windows PowerShell.  \n",
    "\n",
    "3. You are now ready to run Python in a terminal window which you can do as follows:\n",
    "```\n",
    "$ python\n",
    "Python 3.9.5 (tags/v3.9.5:0a7dcbd, May  3 2021, 17:27:52) [MSC v.1928 64 bit (AMD64)] on win32\n",
    "Type \"help\", \"copyright\", \"credits\" or \"license\" for more information.\n",
    ">>>\n",
    "```\n",
    "This creates an interactive environment with a \"`>>>`\"  prompt.   "
   ]
  },
  {
   "cell_type": "markdown",
   "metadata": {},
   "source": [
    "___\n",
    "## 3. Example System of Equations\n",
    "\n",
    "Let's say your $A$ matrix is the following `3x3` matrix:\n",
    "```\n",
    "[[ 3, -2,  0],\n",
    " [-2,  4, -1],\n",
    " [ 0, -1,  5]]\n",
    "```\n",
    "and your `3`-vector $\\boldsymbol{b}$ is:\n",
    "```\n",
    "[ 2, -1,  1]\n",
    "```\n",
    "Note that this is a one-dimensional vector (evidenced by a single set of square brackets).  Python treats 1D vectors as column vectors for operations like multiplication.\n",
    "___\n",
    "## 4. Steps to Solve for $\\boldsymbol{x}$\n",
    "The following are the steps to solve for $\\boldsymbol{x}$.  \n",
    "\n",
    "1. If Python is not running, start it and import Numpy like this:"
   ]
  },
  {
   "cell_type": "code",
   "execution_count": 1,
   "metadata": {},
   "outputs": [],
   "source": [
    "import numpy as np"
   ]
  },
  {
   "cell_type": "markdown",
   "metadata": {},
   "source": [
    "\n",
    "2. Create $A$ and $\\boldsymbol{b}$ as Numpy arrays:"
   ]
  },
  {
   "cell_type": "code",
   "execution_count": 2,
   "metadata": {},
   "outputs": [
    {
     "data": {
      "text/plain": [
       "array([[ 3, -2,  0],\n",
       "       [-2,  4, -1],\n",
       "       [ 0, -1,  5]])"
      ]
     },
     "execution_count": 2,
     "metadata": {},
     "output_type": "execute_result"
    }
   ],
   "source": [
    "A = np.array( [[3,-2,0],[-2,4,-1],[0,-1,5]] )\n",
    "A"
   ]
  },
  {
   "cell_type": "code",
   "execution_count": 3,
   "metadata": {},
   "outputs": [
    {
     "data": {
      "text/plain": [
       "array([ 2, -1,  1])"
      ]
     },
     "execution_count": 3,
     "metadata": {},
     "output_type": "execute_result"
    }
   ],
   "source": [
    "b = np.array( [2,-1,1] )\n",
    "b"
   ]
  },
  {
   "cell_type": "markdown",
   "metadata": {},
   "source": [
    "3. Use Numpy to solve for the unknown vector $\\boldsymbol{x}$:"
   ]
  },
  {
   "cell_type": "code",
   "execution_count": 4,
   "metadata": {},
   "outputs": [
    {
     "data": {
      "text/plain": [
       "array([0.81081081, 0.21621622, 0.24324324])"
      ]
     },
     "execution_count": 4,
     "metadata": {},
     "output_type": "execute_result"
    }
   ],
   "source": [
    "x = np.linalg.solve(A, b)\n",
    "x"
   ]
  },
  {
   "cell_type": "markdown",
   "metadata": {},
   "source": [
    "There you go; you've solved for the 3 unknown parameters with a couple lines of code!  The same method will work for $N\\times N$ arrays of any size as long as $\\boldsymbol{b}$ is also length $N$. Additional documentation is available online for [np.linalg.solve](https://numpy.org/doc/stable/reference/generated/numpy.linalg.solve.html).\n",
    "\n",
    "4. It is always a good idea to sanity check your result.  If we do the matrix multiplication: $A\\boldsymbol{x}$, with the calculated $\\boldsymbol{x}$, then this should give us $\\boldsymbol{b}$ (from the top equation).  Let's confirm this using the matrix multiplication operator `@`:"
   ]
  },
  {
   "cell_type": "code",
   "execution_count": 5,
   "metadata": {},
   "outputs": [
    {
     "data": {
      "text/plain": [
       "array([ 2., -1.,  1.])"
      ]
     },
     "execution_count": 5,
     "metadata": {},
     "output_type": "execute_result"
    }
   ],
   "source": [
    "A @ x"
   ]
  },
  {
   "cell_type": "markdown",
   "metadata": {},
   "source": [
    "And yes, this is very close to the $\\boldsymbol{b}$ vector we set above, confirming that we obtained the correct $\\boldsymbol{x}$.  Finally, if you are running Python in a shell, to exit the interactive Python type:\n",
    "```\n",
    ">>> exit()\n",
    "```\n",
    "___\n",
    "### [Outline](../README.md), Next: [Chapter 18 Pandas for Time Series Data](Chapter_18_Pandas_for_Time_Series_Data.ipynb)\n"
   ]
  }
 ],
 "metadata": {
  "kernelspec": {
   "display_name": "Python 3",
   "language": "python",
   "name": "python3"
  },
  "language_info": {
   "codemirror_mode": {
    "name": "ipython",
    "version": 3
   },
   "file_extension": ".py",
   "mimetype": "text/x-python",
   "name": "python",
   "nbconvert_exporter": "python",
   "pygments_lexer": "ipython3",
   "version": "3.12.9"
  },
  "orig_nbformat": 4
 },
 "nbformat": 4,
 "nbformat_minor": 2
}
