{
 "cells": [
  {
   "cell_type": "markdown",
   "metadata": {},
   "source": [
    "# Chapter 13: Numpy\n",
    "\n",
    "One of the main reasons Python is so popular is that a vast array of tools easily available and usable directly in the language.  This and the following chapters introduce some key some mathematical packages useful for data science and engineering.  Each tool has its own extensive online documentation, and the goal of these chapters is just to motivate you to explore and use these packages.  These chapters are also Jupyter notebooks, so if you load them with VSCode you can run the code snippets directly in the document.\n",
    "\n",
    "**Numpy** is mathematical package that supports multidimensional arrays and operations on them such as matrix multiplication and linear algebra, see: [https://numpy.org/doc/](https://numpy.org/doc/).  All of the other packages described later rely on Numpy.  It is important to be familiar with multidimensional arrays and various ways they can be manipulated and accessed."
   ]
  },
  {
   "cell_type": "markdown",
   "metadata": {},
   "source": [
    "## Installation and Help\n",
    "\n",
    "It is best to install these tools in a virtual environment, see [Chapter 12](Chapter_12_Virtual_Environments.md).  First **activate** your virtual environment and then, from the shell command line, install them with\n",
    "```\n",
    "python -m pip install numpy scipy matplotlib opencv-python\n",
    "```\n",
    "If a package is already installed, this will simply skip it.  Also, any packages that are prerequisites will be installed. \n",
    "\n",
    "Now, after the packages are installed they can be accessed by running Python and using the `import` command as explained in [Chapter 11: Modules and Packages](Chapter_11_Modules_and_Packages.md).  For example, Numpy is usually imported with"
   ]
  },
  {
   "cell_type": "code",
   "execution_count": 1,
   "metadata": {},
   "outputs": [],
   "source": [
    "import numpy as np"
   ]
  },
  {
   "cell_type": "markdown",
   "metadata": {},
   "source": [
    "Besides online documentation, you can get documentation in your interactive terminal with the `help()` function.  For example if you want to know how the numpy cross product works, you would type: `help(np.cross)`. "
   ]
  },
  {
   "cell_type": "markdown",
   "metadata": {},
   "source": [
    "## Numpy Arrays\n",
    "\n",
    "Arrays provide significant computational efficiencies over lists.  Consider various ways to represent 3D points, such as those collected from a lidar.  A single point could be represented as a class with a `.x`, `.y`, `.z`, or as a list with 3 elements or as a 1D numpy array with 3 elements.  A point cloud could then be either a list of points or a 2D numpy array which stacks 1D point arrays.  Performing an operation over all the points, such as rotating them, could be done by iterating over the list or else as a matrix multiplication applied to the array.  Both are equivalent mathematically, and lists are more flexible, but array operations are faster.  For operations on just a few points (10s or so), which representation you use does not make too much difference.  When there are 10,000 or 100,000 points, which could be a single lidar scan, then array operations could be orders of magnitude faster.  In addition, Numpy and other packages supply operations that are very efficient over arrays and much slower over lists.\n",
    "\n",
    "Let's do a simple example to compare a list operation with an array operation.  First, represent a collection of four 3D points as a list:"
   ]
  },
  {
   "cell_type": "code",
   "execution_count": 2,
   "metadata": {},
   "outputs": [
    {
     "data": {
      "text/plain": [
       "[[1.0, 0.0, 0.0], [1.0, 2.0, 1.0], [3.0, 0.0, 1.0], [4.0, 2.0, 0.0]]"
      ]
     },
     "execution_count": 2,
     "metadata": {},
     "output_type": "execute_result"
    }
   ],
   "source": [
    "point_list = [[1.,0.,0.],[1.,2.,1.],[3.,0.,1.],[4.,2.,0.]]\n",
    "point_list"
   ]
  },
  {
   "cell_type": "markdown",
   "metadata": {},
   "source": [
    "To add `1` to each element you can use list comprehension:"
   ]
  },
  {
   "cell_type": "code",
   "execution_count": 3,
   "metadata": {},
   "outputs": [
    {
     "data": {
      "text/plain": [
       "[[2.0, 1.0, 1.0], [2.0, 3.0, 2.0], [4.0, 1.0, 2.0], [5.0, 3.0, 1.0]]"
      ]
     },
     "execution_count": 3,
     "metadata": {},
     "output_type": "execute_result"
    }
   ],
   "source": [
    "new_point_list = [ [x[0]+1,x[1]+1,x[2]+1] for x in point_list]\n",
    "new_point_list"
   ]
  },
  {
   "cell_type": "markdown",
   "metadata": {},
   "source": [
    "Clearly that is a little awkward, besides being slow for long lists.  \n",
    "\n",
    "Now lets convert our list of lists to a Numpy array:"
   ]
  },
  {
   "cell_type": "code",
   "execution_count": 4,
   "metadata": {},
   "outputs": [
    {
     "data": {
      "text/plain": [
       "array([[1., 0., 0.],\n",
       "       [1., 2., 1.],\n",
       "       [3., 0., 1.],\n",
       "       [4., 2., 0.]])"
      ]
     },
     "execution_count": 4,
     "metadata": {},
     "output_type": "execute_result"
    }
   ],
   "source": [
    "point_array = np.array(point_list)\n",
    "point_array"
   ]
  },
  {
   "cell_type": "markdown",
   "metadata": {},
   "source": [
    "Our points have been stored as a 2D array with each *row* being a point and stacked vertically.  Now let's add `1` to each element of each point:"
   ]
  },
  {
   "cell_type": "code",
   "execution_count": 5,
   "metadata": {},
   "outputs": [
    {
     "data": {
      "text/plain": [
       "array([[2., 1., 1.],\n",
       "       [2., 3., 2.],\n",
       "       [4., 1., 2.],\n",
       "       [5., 3., 1.]])"
      ]
     },
     "execution_count": 5,
     "metadata": {},
     "output_type": "execute_result"
    }
   ],
   "source": [
    "new_point_array = point_array + 1\n",
    "new_point_array"
   ]
  },
  {
   "cell_type": "markdown",
   "metadata": {},
   "source": [
    "Much easier eh?  And faster to boot!\n",
    "\n",
    "## Indexing Numpy Arrays\n",
    "\n",
    "The same indexing and slicing that we saw used for strings is available for each dimension of Numpy arrays.  The dimensions, or *axes* as they are called in Numpy, are numbered from left to right like this:  \n",
    "```\n",
    "array[<axis 0>, <axis 1>, ..., <axis N>]\n",
    "```\n",
    "For two-dimensional arrays that means **axis 0** specifies the row and **axis 1** specifies the column.  In our example, each point is a row, and we can obtain the first point like this:"
   ]
  },
  {
   "cell_type": "code",
   "execution_count": 6,
   "metadata": {},
   "outputs": [
    {
     "data": {
      "text/plain": [
       "array([2., 1., 1.])"
      ]
     },
     "execution_count": 6,
     "metadata": {},
     "output_type": "execute_result"
    }
   ],
   "source": [
    "new_point_array[0,:]             # All elements of row 0"
   ]
  },
  {
   "cell_type": "markdown",
   "metadata": {},
   "source": [
    "Note, that it is possible to drop trailing colons `:`, although not leading colons, and so row 0 can also be specified simply as:"
   ]
  },
  {
   "cell_type": "code",
   "execution_count": 7,
   "metadata": {},
   "outputs": [
    {
     "data": {
      "text/plain": [
       "array([2., 1., 1.])"
      ]
     },
     "execution_count": 7,
     "metadata": {},
     "output_type": "execute_result"
    }
   ],
   "source": [
    "new_point_array[0]"
   ]
  },
  {
   "cell_type": "markdown",
   "metadata": {},
   "source": [
    "Now the *x* values of all points are in column 0, and these can be obtained by slicing along axis 0:"
   ]
  },
  {
   "cell_type": "code",
   "execution_count": 8,
   "metadata": {},
   "outputs": [
    {
     "data": {
      "text/plain": [
       "array([2., 2., 4., 5.])"
      ]
     },
     "execution_count": 8,
     "metadata": {},
     "output_type": "execute_result"
    }
   ],
   "source": [
    "new_point_array[:,0]           # A slice along axis 0 at index 0 of axis 1"
   ]
  },
  {
   "cell_type": "markdown",
   "metadata": {},
   "source": [
    "Notice that a single row is returned as a 1D array.  There are many more details to learn about indexing and adding dimensions to array which you can find in the official documentation: [https://numpy.org/doc/stable/reference/arrays.indexing.html](https://numpy.org/doc/stable/reference/arrays.indexing.html).  I strongly recommend you review this page. \n",
    "\n",
    "To get some practice working with axes, try using `np.concatentate()` to combine arrays along different dimensions.  Predict what you get when you do the following commands, and then try them:"
   ]
  },
  {
   "cell_type": "code",
   "execution_count": 9,
   "metadata": {},
   "outputs": [
    {
     "data": {
      "text/plain": [
       "array([[1., 0., 0.],\n",
       "       [1., 2., 1.],\n",
       "       [3., 0., 1.],\n",
       "       [4., 2., 0.],\n",
       "       [1., 0., 0.],\n",
       "       [1., 2., 1.],\n",
       "       [3., 0., 1.],\n",
       "       [4., 2., 0.]])"
      ]
     },
     "execution_count": 9,
     "metadata": {},
     "output_type": "execute_result"
    }
   ],
   "source": [
    "np.concatenate( (point_array, point_array), axis=0)"
   ]
  },
  {
   "cell_type": "code",
   "execution_count": 10,
   "metadata": {},
   "outputs": [
    {
     "data": {
      "text/plain": [
       "array([[1., 0., 0., 1., 0., 0.],\n",
       "       [1., 2., 1., 1., 2., 1.],\n",
       "       [3., 0., 1., 3., 0., 1.],\n",
       "       [4., 2., 0., 4., 2., 0.]])"
      ]
     },
     "execution_count": 10,
     "metadata": {},
     "output_type": "execute_result"
    }
   ],
   "source": [
    "np.concatenate( (point_array, point_array), axis=1)"
   ]
  },
  {
   "cell_type": "markdown",
   "metadata": {},
   "source": [
    "## Cross Products with Numpy\n",
    "Cross products are simple to perform with Numpy.  A 3-vector is represented with a length 3 one-dimensional Numpy array, and the cross product like this:"
   ]
  },
  {
   "cell_type": "code",
   "execution_count": 11,
   "metadata": {},
   "outputs": [
    {
     "data": {
      "text/plain": [
       "array([0., 0., 1.])"
      ]
     },
     "execution_count": 11,
     "metadata": {},
     "output_type": "execute_result"
    }
   ],
   "source": [
    "x = np.array([1.,0.,0.])\n",
    "y = np.array([0.,1.,0.])\n",
    "np.cross(x,y)"
   ]
  },
  {
   "cell_type": "markdown",
   "metadata": {},
   "source": [
    "As one can confirm with the right-hand rule, the output is a unit vector on the `z` axis.  And to make life even easier, if you pass in length-3 lists, the `cross()` function will first convert them to Numpy arrays and then perform the cross product like this:"
   ]
  },
  {
   "cell_type": "code",
   "execution_count": 12,
   "metadata": {},
   "outputs": [
    {
     "data": {
      "text/plain": [
       "array([0., 0., 1.])"
      ]
     },
     "execution_count": 12,
     "metadata": {},
     "output_type": "execute_result"
    }
   ],
   "source": [
    "np.cross([1.,0.,0.],[0.,1.,0.])"
   ]
  },
  {
   "cell_type": "markdown",
   "metadata": {},
   "source": [
    "Now say you want to take the cross product of `[1.,0.,0.]` with multiple vectors.  It is inefficient to write each product out on a separate line.  It is more succinct and faster to stack the vectors into a single array and then use a single `cross()` command to do all the cross products at once.  Thus first stack vectors:"
   ]
  },
  {
   "cell_type": "code",
   "execution_count": 13,
   "metadata": {},
   "outputs": [
    {
     "data": {
      "text/plain": [
       "array([[ 1.,  0.,  0.],\n",
       "       [ 0.,  1.,  0.],\n",
       "       [ 0., -1.,  0.],\n",
       "       [ 0.,  0.,  1.]])"
      ]
     },
     "execution_count": 13,
     "metadata": {},
     "output_type": "execute_result"
    }
   ],
   "source": [
    "vecs = np.array([[1.,0.,0.],[0.,1.,0.],[0.,-1.,0.],[0.,0.,1.]])\n",
    "vecs"
   ]
  },
  {
   "cell_type": "markdown",
   "metadata": {},
   "source": [
    "Now do all the cross products with one command:"
   ]
  },
  {
   "cell_type": "code",
   "execution_count": 14,
   "metadata": {},
   "outputs": [
    {
     "data": {
      "text/plain": [
       "array([[ 0.,  0.,  0.],\n",
       "       [ 0.,  0.,  1.],\n",
       "       [ 0.,  0., -1.],\n",
       "       [ 0., -1.,  0.]])"
      ]
     },
     "execution_count": 14,
     "metadata": {},
     "output_type": "execute_result"
    }
   ],
   "source": [
    "\n",
    "np.cross([1.,0.,0.], vecs)"
   ]
  },
  {
   "cell_type": "markdown",
   "metadata": {},
   "source": [
    "## Broadcasting with Numpy Arrays\n",
    "\n",
    "Our final topic is that of broadcasting in Numpy.  This enables efficient repetitive operations on arrays.  But before describing it, let's review elementwise operations.  Start with two arrays of points:"
   ]
  },
  {
   "cell_type": "code",
   "execution_count": 15,
   "metadata": {},
   "outputs": [
    {
     "data": {
      "text/plain": [
       "array([[1., 0., 0.],\n",
       "       [1., 2., 1.],\n",
       "       [3., 0., 1.],\n",
       "       [4., 2., 0.]])"
      ]
     },
     "execution_count": 15,
     "metadata": {},
     "output_type": "execute_result"
    }
   ],
   "source": [
    "points = np.array([[1.,0.,0.],[1.,2.,1.],[3.,0.,1.],[4.,2.,0.]])\n",
    "points"
   ]
  },
  {
   "cell_type": "code",
   "execution_count": 16,
   "metadata": {},
   "outputs": [
    {
     "data": {
      "text/plain": [
       "array([[4., 2., 0.],\n",
       "       [3., 0., 1.],\n",
       "       [1., 2., 1.],\n",
       "       [1., 0., 0.]])"
      ]
     },
     "execution_count": 16,
     "metadata": {},
     "output_type": "execute_result"
    }
   ],
   "source": [
    "opoints = np.flip(points,axis=0)\n",
    "opoints"
   ]
  },
  {
   "cell_type": "markdown",
   "metadata": {},
   "source": [
    "If we add or multiply `points` and `opoints`, these operations are done elementwise.  For example:"
   ]
  },
  {
   "cell_type": "code",
   "execution_count": 17,
   "metadata": {},
   "outputs": [
    {
     "data": {
      "text/plain": [
       "array([[5., 2., 0.],\n",
       "       [4., 2., 2.],\n",
       "       [4., 2., 2.],\n",
       "       [5., 2., 0.]])"
      ]
     },
     "execution_count": 17,
     "metadata": {},
     "output_type": "execute_result"
    }
   ],
   "source": [
    "spoints = points + opoints\n",
    "spoints"
   ]
  },
  {
   "cell_type": "markdown",
   "metadata": {},
   "source": [
    "For this to operate elementwise, it is important that `points` and `opoints` are the same shape.  Now, let's say we want to translate `spoints` by a single 3-vector:"
   ]
  },
  {
   "cell_type": "code",
   "execution_count": 18,
   "metadata": {},
   "outputs": [],
   "source": [
    "t = np.array([1.,4.,9.]) "
   ]
  },
  {
   "cell_type": "markdown",
   "metadata": {},
   "source": [
    "How might we add `t` to `spoints` so that it is added to each 3D point?  \n",
    "\n",
    "One way would be to stack 4 copies of `t` along `axis=0` to create a new `4 X 3` matrix and then do an elementwise addition.  This works, but is tedious, and could be inefficient depending how it is done.  A better way is through **broadcasting**.  \n",
    "\n",
    "I will describe broadcasting for adding two rank `N` arrays, `A` and `B`. (The same principles apply to other elementwise operations like multiplication and division.)  To add `A` and `B`: \n",
    "* The size of each corresponding dimension must be the same \n",
    "\n",
    "**OR** \n",
    "* If any dimension sizes differ, then one of the corresponding sizes must be 1.  \n",
    "\n",
    "Any dimension of `A` or `B` that is 1 causes the array to be replicated along that dimension to equal the size of the other. \n",
    "\n",
    "Let's look at an example"
   ]
  },
  {
   "cell_type": "code",
   "execution_count": 19,
   "metadata": {},
   "outputs": [
    {
     "data": {
      "text/plain": [
       "array([[1., 0., 0.],\n",
       "       [0., 1., 0.],\n",
       "       [0., 0., 1.]])"
      ]
     },
     "execution_count": 19,
     "metadata": {},
     "output_type": "execute_result"
    }
   ],
   "source": [
    "A = np.eye(3)                  # 3x3 identity matrix\n",
    "A"
   ]
  },
  {
   "cell_type": "code",
   "execution_count": 20,
   "metadata": {},
   "outputs": [
    {
     "data": {
      "text/plain": [
       "array([[0],\n",
       "       [2],\n",
       "       [4]])"
      ]
     },
     "execution_count": 20,
     "metadata": {},
     "output_type": "execute_result"
    }
   ],
   "source": [
    "B = 2*np.arange(3)[:,None] \n",
    "B"
   ]
  },
  {
   "cell_type": "markdown",
   "metadata": {},
   "source": [
    "The `[:,None]` adds a new dimension along axis 1 and turns shape of B from `(3,) --> (3,1)`.  Now let's add these arrays:"
   ]
  },
  {
   "cell_type": "code",
   "execution_count": 21,
   "metadata": {},
   "outputs": [
    {
     "data": {
      "text/plain": [
       "array([[1., 0., 0.],\n",
       "       [2., 3., 2.],\n",
       "       [4., 4., 5.]])"
      ]
     },
     "execution_count": 21,
     "metadata": {},
     "output_type": "execute_result"
    }
   ],
   "source": [
    "C = A + B\n",
    "C"
   ]
  },
  {
   "cell_type": "markdown",
   "metadata": {},
   "source": [
    "To see what happened, let's compare the shapes of `A`: `(3,3)`, and `B`: `(3,1)`. Along axis 0, `A` and `B` have the same size.   Along axis 1 `A` has size 3 while `B` has size 1.  This means `B` will be replicated 3 times along axis 1.  So the following operation that will give the same result as broadcasting is:"
   ]
  },
  {
   "cell_type": "code",
   "execution_count": 22,
   "metadata": {},
   "outputs": [
    {
     "data": {
      "text/plain": [
       "array([[1., 0., 0.],\n",
       "       [2., 3., 2.],\n",
       "       [4., 4., 5.]])"
      ]
     },
     "execution_count": 22,
     "metadata": {},
     "output_type": "execute_result"
    }
   ],
   "source": [
    "C = A + np.repeat(B,3,axis=1)         # Explicitly replicate along axis 1\n",
    "C"
   ]
  },
  {
   "cell_type": "markdown",
   "metadata": {},
   "source": [
    "Using broadcasting this can be done more succinctly.   And broadcasting works for arrays of any number of dimensions.  \n",
    "\n",
    "There is one more detail.  If `A` or `B` has fewer dimensions than the other, then additional **leading** dimensions of size 1 are added so that both arrays have the same number of dimensions.  Let's consider some examples and whether `A` and `B` can be broadcast to create `C`:\n",
    "\n",
    "| `A.shape` | `B.shape` | `C.shape` or invalid |\n",
    "| --- |--- | --- |\n",
    "| `(6,4,2)` | `(6,1,2)` | `(6,4,2)` |\n",
    "| `(4,2,5)` | `(4,3,5)` | invalid [Dimension 1 has a `2` and `3`] |\n",
    "| `(3,1,2,6)` | `(3,5,2,1)` | `(3,5,2,6)` |\n",
    "| `(5,4)` | `(3,5,1)` | `(3,5,4)` [A leading 1 is added to `(5,4) --> (1,5,4)`] |\n",
    "| `(4,5)` | `(4,5,1)` | invalid [Adding a leading dimension to `A` gives size `(1,4,5)`]\n",
    "\n",
    "Now let's return to our task of translating `spoints` with `t`.  "
   ]
  },
  {
   "cell_type": "code",
   "execution_count": 23,
   "metadata": {},
   "outputs": [
    {
     "data": {
      "text/plain": [
       "array([[5., 2., 0.],\n",
       "       [4., 2., 2.],\n",
       "       [4., 2., 2.],\n",
       "       [5., 2., 0.]])"
      ]
     },
     "execution_count": 23,
     "metadata": {},
     "output_type": "execute_result"
    }
   ],
   "source": [
    "spoints = np.array([[5., 2., 0.], [4., 2., 2.], [4., 2., 2.], [5., 2., 0.]])\n",
    "spoints"
   ]
  },
  {
   "cell_type": "code",
   "execution_count": 24,
   "metadata": {},
   "outputs": [
    {
     "data": {
      "text/plain": [
       "array([1., 4., 9.])"
      ]
     },
     "execution_count": 24,
     "metadata": {},
     "output_type": "execute_result"
    }
   ],
   "source": [
    "t = np.array([1.,4.,9.]) \n",
    "t"
   ]
  },
  {
   "cell_type": "markdown",
   "metadata": {},
   "source": [
    "It should now be clear what we can simply add them:"
   ]
  },
  {
   "cell_type": "code",
   "execution_count": 25,
   "metadata": {},
   "outputs": [
    {
     "data": {
      "text/plain": [
       "array([[ 6.,  6.,  9.],\n",
       "       [ 5.,  6., 11.],\n",
       "       [ 5.,  6., 11.],\n",
       "       [ 6.,  6.,  9.]])"
      ]
     },
     "execution_count": 25,
     "metadata": {},
     "output_type": "execute_result"
    }
   ],
   "source": [
    "npoints = spoints + t\n",
    "npoints"
   ]
  },
  {
   "cell_type": "markdown",
   "metadata": {},
   "source": [
    "What is happening here?  `spoints` is size `(4,3)` while `t` is size `(3,)`.  During broadcasting, `t` is first converted to size `(1,3)`, and then replicated four times along dimension 0 and then added.  Thus `t` is added to each of the four 3D points, effectively translating them by `t`. \n",
    "\n",
    "Here are some practice examples.  Carefully examine each expression and make sure you understand why it gives the output it does."
   ]
  },
  {
   "cell_type": "code",
   "execution_count": 26,
   "metadata": {},
   "outputs": [
    {
     "data": {
      "text/plain": [
       "array([[0., 1., 2., 3.],\n",
       "       [0., 1., 2., 3.],\n",
       "       [0., 1., 2., 3.]])"
      ]
     },
     "execution_count": 26,
     "metadata": {},
     "output_type": "execute_result"
    }
   ],
   "source": [
    "np.ones( (3,1) ) * np.arange(4)\n"
   ]
  },
  {
   "cell_type": "code",
   "execution_count": 27,
   "metadata": {},
   "outputs": [
    {
     "data": {
      "text/plain": [
       "array([[[3, 4, 8],\n",
       "        [3, 4, 8],\n",
       "        [3, 4, 8],\n",
       "        [3, 4, 8]],\n",
       "\n",
       "       [[3, 4, 8],\n",
       "        [3, 4, 8],\n",
       "        [3, 4, 8],\n",
       "        [3, 4, 8]]])"
      ]
     },
     "execution_count": 27,
     "metadata": {},
     "output_type": "execute_result"
    }
   ],
   "source": [
    "np.ones( (2,4,3), dtype=np.int32 ) * np.array( [3,4,8], dtype=np.int32 )"
   ]
  },
  {
   "cell_type": "markdown",
   "metadata": {},
   "source": [
    "Notice how `np.ones()` can create an array of any dimensionality, as specified by the first argument which is a tuple of dimension sizes.  Also note that we can explicitly set the data type of an array when we create it, in this case as 32-bit integers.  If is also possible to convert arrays to a 32-bit inteter after an operation using `.astype(np.int32)`."
   ]
  },
  {
   "cell_type": "markdown",
   "metadata": {},
   "source": [
    "___\n",
    "## Exercises\n",
    "\n",
    "Numpy arrays enable you to perform many operations directly on arrays without iterating.  This is important as iterating in Python is slow.  The following exercises should all be done without any iteration.\n",
    "\n",
    "1. Write an expression that creates a `6x8` 2D array called `img` in which each element value is its index (see below).  Hint: you can use the `np.arange()` function and the `.reshape()`.  As necessary look up the documentation on these. The output should look like:\n",
    "```python\n",
    "array([[ 0,  1,  2,  3,  4,  5,  6,  7],\n",
    "       [ 8,  9, 10, 11, 12, 13, 14, 15],\n",
    "       [16, 17, 18, 19, 20, 21, 22, 23],\n",
    "       [24, 25, 26, 27, 28, 29, 30, 31],\n",
    "       [32, 33, 34, 35, 36, 37, 38, 39],\n",
    "       [40, 41, 42, 43, 44, 45, 46, 47]])\n",
    "```\n",
    "2. In one Python line of code, use integer division to transform `img` into an array called `row` with each element equal to its row index, like this:\n",
    "```python\n",
    "array([[0, 0, 0, 0, 0, 0, 0, 0],\n",
    "       [1, 1, 1, 1, 1, 1, 1, 1],\n",
    "       [2, 2, 2, 2, 2, 2, 2, 2],\n",
    "       [3, 3, 3, 3, 3, 3, 3, 3],\n",
    "       [4, 4, 4, 4, 4, 4, 4, 4],\n",
    "       [5, 5, 5, 5, 5, 5, 5, 5]], dtype=int32)\n",
    "```\n",
    "3. Similarly use one Python line of code to transform `img` into an array called `col` with each element equal to its column index, like this:\n",
    "```python\n",
    "array([[0, 1, 2, 3, 4, 5, 6, 7],\n",
    "       [0, 1, 2, 3, 4, 5, 6, 7],\n",
    "       [0, 1, 2, 3, 4, 5, 6, 7],\n",
    "       [0, 1, 2, 3, 4, 5, 6, 7],\n",
    "       [0, 1, 2, 3, 4, 5, 6, 7],\n",
    "       [0, 1, 2, 3, 4, 5, 6, 7]], dtype=int32)\n",
    "```\n",
    "4. Use simple math operations applied to `row` and `col` to calculate a distance array called `dist` that gives the Euclidean distance to each element from the top-left element.   You can use Pythagorous theorem for this: `c = np.sqrt(a*a+b*b)`. To display it in an easily viewable 3-decimal point format use the following commands:\n",
    "```python\n",
    ">>> np.set_printoptions(formatter={'float': '{: 0.3f}'.format})\n",
    ">>> dist\n",
    "array([[ 0.000,  1.000,  2.000,  3.000,  4.000,  5.000,  6.000,  7.000],\n",
    "       [ 1.000,  1.414,  2.236,  3.162,  4.123,  5.099,  6.083,  7.071],\n",
    "       [ 2.000,  2.236,  2.828,  3.606,  4.472,  5.385,  6.325,  7.280],\n",
    "       [ 3.000,  3.162,  3.606,  4.243,  5.000,  5.831,  6.708,  7.616],\n",
    "       [ 4.000,  4.123,  4.472,  5.000,  5.657,  6.403,  7.211,  8.062],\n",
    "       [ 5.000,  5.099,  5.385,  5.831,  6.403,  7.071,  7.810,  8.602]])\n",
    ">>> np.set_printoptions(formatter={}) # Undo the format option for future display\n",
    "```\n",
    "5.  Write a Python expression that find the [Manhatten distance, also called Taxicab distance](https://en.wikipedia.org/wiki/Taxicab_geometry) from each element of a `6x8` array to the center point `(2.5,3.5)`.  Feel free to use `row` and `col` calculated in (2) and (3) above.  Also the `abs()` function will help you here.  The output should look like this:\n",
    "```python\n",
    "array([[6., 5., 4., 3., 3., 4., 5., 6.],\n",
    "       [5., 4., 3., 2., 2., 3., 4., 5.],\n",
    "       [4., 3., 2., 1., 1., 2., 3., 4.],\n",
    "       [4., 3., 2., 1., 1., 2., 3., 4.],\n",
    "       [5., 4., 3., 2., 2., 3., 4., 5.],\n",
    "       [6., 5., 4., 3., 3., 4., 5., 6.]])\n",
    "```\n",
    "6.  Write an expression that calculates the outer product of two vectors stored as 1D arrays: `vec1 = np.array([1,2,3])`, and `vec2 = np.array([2,2,1,1])`.  This expression should include the muliplcation operator, and should transform `vec1` into a column vector before multiplying.  The output should be:\n",
    "```python\n",
    "array([[2, 2, 1, 1],\n",
    "       [4, 4, 2, 2],\n",
    "       [6, 6, 3, 3]])\n",
    "```\n",
    "7. Use the commands `np.zeros()`, `np.eye()`, `np.concatenate()` and `.astype()` in one line of code to create the following matrix:\n",
    "```python\n",
    "array([[0., 0., 0.],\n",
    "       [1., 0., 0.],\n",
    "       [0., 1., 0.],\n",
    "       [0., 0., 1.]], dtype=float32)\n",
    "```   "
   ]
  },
  {
   "cell_type": "markdown",
   "metadata": {},
   "source": [
    "___\n",
    "### [Outline](../README.md), Next: [Chapter 14: Scipy](Chapter_14_Scipy.ipynb)"
   ]
  }
 ],
 "metadata": {
  "kernelspec": {
   "display_name": "Python 3.8.3 ('av')",
   "language": "python",
   "name": "python3"
  },
  "language_info": {
   "codemirror_mode": {
    "name": "ipython",
    "version": 3
   },
   "file_extension": ".py",
   "mimetype": "text/x-python",
   "name": "python",
   "nbconvert_exporter": "python",
   "pygments_lexer": "ipython3",
   "version": "3.8.3"
  },
  "orig_nbformat": 4,
  "vscode": {
   "interpreter": {
    "hash": "ed23d99e7629678e46c9f970bda0c38dec7963ec4874f3650470081250edafc4"
   }
  }
 },
 "nbformat": 4,
 "nbformat_minor": 2
}
